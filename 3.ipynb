{
 "cells": [
  {
   "cell_type": "code",
   "execution_count": 42,
   "metadata": {},
   "outputs": [
    {
     "name": "stdout",
     "output_type": "stream",
     "text": [
      "---   Panjang   ---\n",
      "*    *    *    *    *    \n",
      "*    =    =    =    *\n",
      "*    *    *    *    *    \n",
      "*    =    =    =    *\n",
      "*    *    *    *    *    \n"
     ]
    }
   ],
   "source": [
    "# membuat judul\n",
    "print('-' * 3, '  Panjang  ', '-' * 3  )\n",
    "\n",
    "# mendefinisikan fungsi dengan for loop\n",
    "def gambar (a):\n",
    "    print('*    ' * 5, end ='\\n')\n",
    "    for i in range (int(a/2)) :\n",
    "        print(\"* \",\"  =  \" * 3, \" *\", end = '\\n')\n",
    "        for i in range (1) :\n",
    "            print('*    ' * 5, end ='\\n')\n",
    "\n",
    "# panggil fungsi                   \n",
    "gambar (5)\n"
   ]
  }
 ],
 "metadata": {
  "kernelspec": {
   "display_name": "Python 3",
   "language": "python",
   "name": "python3"
  },
  "language_info": {
   "codemirror_mode": {
    "name": "ipython",
    "version": 3
   },
   "file_extension": ".py",
   "mimetype": "text/x-python",
   "name": "python",
   "nbconvert_exporter": "python",
   "pygments_lexer": "ipython3",
   "version": "3.7.3"
  }
 },
 "nbformat": 4,
 "nbformat_minor": 2
}
