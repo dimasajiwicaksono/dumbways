{
 "cells": [
  {
   "cell_type": "code",
   "execution_count": 140,
   "metadata": {},
   "outputs": [
    {
     "name": "stdout",
     "output_type": "stream",
     "text": [
      "Selamat anda dapat cashback sebesar 22000.0\n",
      "Total kembalian 370909.0\n",
      "7 x 50000\n",
      "1 x 20.000\n",
      "disumbangkan sebesar:   909.0\n"
     ]
    },
    {
     "data": {
      "text/plain": [
       "370000.0"
      ]
     },
     "execution_count": 140,
     "metadata": {},
     "output_type": "execute_result"
    }
   ],
   "source": [
    "''' \n",
    "Sebuah Vending Machine DumbWays mempunyai \n",
    "stok uang kembalian 5.000, 10.000, 20.000, dan 50.000. \n",
    "\n",
    "# menentukan fungsi total belanja dan jumlah uang\n",
    "# syarat tambahan pembelanjaan > 200000 dapat cashback 10 % dari total\n",
    "\n",
    "'''\n",
    "\n",
    "def belanja (total, bayar):\n",
    "    \n",
    "    if total >= 200000:\n",
    "        cashback = total * 0.1\n",
    "        print('Selamat anda dapat cashback sebesar', cashback)\n",
    "        \n",
    "        kembalian = (bayar + cashback) - total\n",
    "        print('Total kembalian', kembalian)\n",
    "        \n",
    "        sumbangkan = kembalian % 5000\n",
    "        sisa = kembalian - sumbangkan\n",
    "        \n",
    "        if sisa >= 50000:\n",
    "            a = int(sisa / 50000)\n",
    "            b = sisa - (50000 * a)\n",
    "            print(a, 'x 50000')\n",
    "            \n",
    "            if b >=20000:\n",
    "                c =int(b/ 20000)\n",
    "                d =b-(20000*c)\n",
    "                print(c, 'x 20.000')\n",
    "                \n",
    "            elif b>= 10000:\n",
    "                e = int(b/10000)\n",
    "                f = b- (10000*e)\n",
    "                print(e,'x 10.000')\n",
    "                \n",
    "                \n",
    "            elif b >= 5000:\n",
    "                g= int(b/5000)\n",
    "                h= b - (5000 * g)\n",
    "                print( g,'x 5000')\n",
    "                    \n",
    "        elif sisa >= 20000 :\n",
    "            a = int(sisa / 20000)\n",
    "            b = sisa - (20000 * a)\n",
    "            print(a, 'x 20000')\n",
    "            \n",
    "        elif sisa >= 10000 or b >= 10000:\n",
    "            a = int(sisa / 10000)\n",
    "            b = sisa - (10000 * a)\n",
    "            print(a, 'x 10000')\n",
    "            \n",
    "        else :\n",
    "            a = int(sisa / 5000)\n",
    "            b = sisa - (5000 * a)\n",
    "            print(a, 'x 5000')\n",
    "            \n",
    "            \n",
    "        print('disumbangkan sebesar:  ', sumbangkan)\n",
    "        \n",
    "        return sisa\n",
    "            \n",
    "        \n",
    "             \n",
    "        \n",
    "belanja (220000, 568909)\n",
    "\n",
    "\n"
   ]
  },
  {
   "cell_type": "code",
   "execution_count": null,
   "metadata": {},
   "outputs": [],
   "source": []
  },
  {
   "cell_type": "code",
   "execution_count": null,
   "metadata": {},
   "outputs": [],
   "source": []
  }
 ],
 "metadata": {
  "kernelspec": {
   "display_name": "Python 3",
   "language": "python",
   "name": "python3"
  },
  "language_info": {
   "codemirror_mode": {
    "name": "ipython",
    "version": 3
   },
   "file_extension": ".py",
   "mimetype": "text/x-python",
   "name": "python",
   "nbconvert_exporter": "python",
   "pygments_lexer": "ipython3",
   "version": "3.7.3"
  }
 },
 "nbformat": 4,
 "nbformat_minor": 2
}
