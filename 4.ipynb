{
 "cells": [
  {
   "cell_type": "code",
   "execution_count": 104,
   "metadata": {},
   "outputs": [
    {
     "name": "stdout",
     "output_type": "stream",
     "text": [
      "Uang yang Harus Dibayar :  130000\n",
      "Diskon:  20000\n",
      "kembalian:   20000\n"
     ]
    }
   ],
   "source": [
    "# mendefinisikan fungsi\n",
    "def hitungVoucher(voucher, total):\n",
    "    if voucher == 'DumbWaysAsik' and total >= 20000:             # diskon Voucer DumbWaysAsik 50% min bayar 20.000, max 20000\n",
    "        diskon = total * 0.5                  \n",
    "        if diskon >= 20000:\n",
    "            diskon = 20000\n",
    "            print('Uang yang Harus Dibayar : ', total- diskon)\n",
    "            print('Diskon: ', diskon)\n",
    "            print('kembalian:  ', diskon)\n",
    "        else:\n",
    "            print('Uang yang Harus Dibayar : ', total- diskon)\n",
    "            print('Diskon: ', diskon)\n",
    "            print('kembalian:  ', diskon)\n",
    "                  \n",
    "    elif voucher != 'DumbWaysAsik' or 'DumbWaysMantap' and total >= 50000:  # Voucer DumbWaysmantap 30% min bayar 50k max 40k        diskon = total * 0.3\n",
    "        if diskon >= 40000:\n",
    "            diskon = 40000\n",
    "            print('Uang yang Harus Dibayar : ', total- diskon)\n",
    "            print('Diskon: ', diskon)\n",
    "            print('kembalian:  ', diskon)\n",
    "        else:\n",
    "            print('Uang yang Harus Dibayar : ', total- diskon)\n",
    "            print('Diskon: ', diskon)\n",
    "            print('kembalian:  ', diskon)\n",
    "    else:\n",
    "        print('ada yang salah')\n",
    "        \n",
    "# panggil fungsi\n",
    "        \n",
    "hitungVoucher('DumbWaysAsik', 150000)"
   ]
  },
  {
   "cell_type": "code",
   "execution_count": null,
   "metadata": {},
   "outputs": [],
   "source": [
    "\n",
    "     \n",
    "        "
   ]
  },
  {
   "cell_type": "code",
   "execution_count": null,
   "metadata": {},
   "outputs": [],
   "source": []
  }
 ],
 "metadata": {
  "kernelspec": {
   "display_name": "Python 3",
   "language": "python",
   "name": "python3"
  },
  "language_info": {
   "codemirror_mode": {
    "name": "ipython",
    "version": 3
   },
   "file_extension": ".py",
   "mimetype": "text/x-python",
   "name": "python",
   "nbconvert_exporter": "python",
   "pygments_lexer": "ipython3",
   "version": "3.7.3"
  }
 },
 "nbformat": 4,
 "nbformat_minor": 2
}
