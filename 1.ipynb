{
 "cells": [
  {
   "cell_type": "code",
   "execution_count": 65,
   "metadata": {},
   "outputs": [
    {
     "name": "stdout",
     "output_type": "stream",
     "text": [
      "dumb ==> True\n",
      "ways ==> True\n",
      "the ==> False\n",
      "best ==> True\n"
     ]
    }
   ],
   "source": [
    "def kata (word, word2, word3, word4):\n",
    "    dic = ['dumb','ways','the','best']\n",
    "    \n",
    "    if word == 'dumb':\n",
    "        print('dumb ==>', 'True' )\n",
    "    elif word2 == 'dumb':\n",
    "        print('dumb ==>', 'True' )\n",
    "    elif word3 == 'dumb':\n",
    "        print('dumb ==>', 'True' )\n",
    "    elif word4 == 'dumb':\n",
    "        print('dumb ==>', 'True' )\n",
    "    else :\n",
    "        print('dumb ==>', 'False')\n",
    "        \n",
    "        \n",
    "    if word == 'ways':\n",
    "        print(\"ways ==>\", \"True\")\n",
    "    elif word2 == 'ways':\n",
    "        print('ways ==>', 'True' )\n",
    "    elif word3 == 'ways':\n",
    "        print('ways ==>', 'True' )\n",
    "    elif word4 == 'ways':\n",
    "        print('ways ==>', 'True' )\n",
    "    else :\n",
    "        print('ways ==>', 'False')\n",
    "        \n",
    "        \n",
    "    if word == 'the':\n",
    "        print(\"the ==>\", 'True')\n",
    "    elif word2 == 'the':\n",
    "        print('the ==>', 'True' )\n",
    "    elif word3 == 'the':\n",
    "        print('the ==>', 'True' )\n",
    "    elif word4 == 'the':\n",
    "        print('the ==>', 'True' )\n",
    "    else :\n",
    "        print('the ==>', 'False')\n",
    "        \n",
    "        \n",
    "    if word == 'best':\n",
    "        print(\"best ==>\", 'True')\n",
    "    elif word2 == 'best':\n",
    "        print('best ==>', 'True' )\n",
    "    elif word3 == 'best':\n",
    "        print('best ==>', 'True' )\n",
    "    elif word4 == 'best':\n",
    "        print('best ==>', 'True' )\n",
    "    else :\n",
    "        print('best ==>', \"False\")\n",
    "        \n",
    "        \n",
    "kata ('best','dumb','dumb','ways')\n"
   ]
  }
 ],
 "metadata": {
  "kernelspec": {
   "display_name": "Python 3",
   "language": "python",
   "name": "python3"
  },
  "language_info": {
   "codemirror_mode": {
    "name": "ipython",
    "version": 3
   },
   "file_extension": ".py",
   "mimetype": "text/x-python",
   "name": "python",
   "nbconvert_exporter": "python",
   "pygments_lexer": "ipython3",
   "version": "3.7.3"
  }
 },
 "nbformat": 4,
 "nbformat_minor": 2
}
