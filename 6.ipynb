{
 "cells": [
  {
   "cell_type": "code",
   "execution_count": 108,
   "metadata": {},
   "outputs": [
    {
     "name": "stdout",
     "output_type": "stream",
     "text": [
      "[5 7 9]\n",
      "[1 5 6 7 8]\n",
      "[1 3 4 5 6 7]\n",
      "[ 1  3  5  7  8  9 14]\n",
      "[ 2  3  4  6  6  7  8 12 30 67]\n"
     ]
    }
   ],
   "source": [
    "import numpy as np\n",
    "\n",
    "data =np. array ([[1, 5, 6, 7, 4 , 3],\n",
    "                  [5, 7, 8, 1, 6]])\n",
    "datalain = np.array([\n",
    "    [2, 6, 8, 4, 7, 3, 6 ,12, 67, 30],\n",
    "    [1, 5, 7, 8, 3, 9, 14],\n",
    "    [5, 7, 9]\n",
    "])\n",
    "\n",
    "\n",
    "a =np.sort(data[0])\n",
    "b = np.sort(data[1])\n",
    "c = np.sort(datalain[0])\n",
    "d = np.sort(datalain[1])\n",
    "e = np.sort(datalain[2])\n",
    "\n",
    "print(e)\n",
    "print(b)\n",
    "print(a)\n",
    "print(d)\n",
    "print(c)\n",
    "\n"
   ]
  },
  {
   "cell_type": "code",
   "execution_count": null,
   "metadata": {},
   "outputs": [],
   "source": []
  },
  {
   "cell_type": "code",
   "execution_count": null,
   "metadata": {},
   "outputs": [],
   "source": []
  }
 ],
 "metadata": {
  "kernelspec": {
   "display_name": "Python 3",
   "language": "python",
   "name": "python3"
  },
  "language_info": {
   "codemirror_mode": {
    "name": "ipython",
    "version": 3
   },
   "file_extension": ".py",
   "mimetype": "text/x-python",
   "name": "python",
   "nbconvert_exporter": "python",
   "pygments_lexer": "ipython3",
   "version": "3.7.3"
  }
 },
 "nbformat": 4,
 "nbformat_minor": 2
}
